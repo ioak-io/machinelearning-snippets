{
 "cells": [
  {
   "cell_type": "code",
   "execution_count": 13,
   "id": "3a866db0-1ead-46a1-ad94-2bc86dd101ad",
   "metadata": {},
   "outputs": [],
   "source": [
    "# Import necessary libraries\n",
    "import pandas as pd\n",
    "import re\n",
    "\n",
    "# Dataframe Creation\n",
    "data = {'Name': ['Alice', 'Bob', 'Charlie'],\n",
    "        'Age': [25, 30, 35],\n",
    "        'City': ['New York', 'San Francisco', 'Los Angeles'],\n",
    "       'Description': ['Ut consectetur quasi, dolore minima eius nemo.', 'Quam?', 'Ad voluptatem pariatur:) commodi et!!']}\n",
    "df = pd.DataFrame(data)"
   ]
  },
  {
   "cell_type": "code",
   "execution_count": 2,
   "id": "38348fdb-654b-4273-90e7-04f412f255c8",
   "metadata": {},
   "outputs": [
    {
     "name": "stdout",
     "output_type": "stream",
     "text": [
      "DataFrame Head:\n",
      "      Name  Age           City  \\\n",
      "0    Alice   25       New York   \n",
      "1      Bob   30  San Francisco   \n",
      "2  Charlie   35    Los Angeles   \n",
      "\n",
      "                                         Description  \n",
      "0     Ut consectetur quasi, dolore minima eius nemo.  \n",
      "1  Quam iste et eum est consequatur veniam eaque ...  \n",
      "2  Ad voluptatem dolor molestiae iure odit pariat...  \n",
      "\n",
      "DataFrame Tail:\n",
      "      Name  Age           City  \\\n",
      "0    Alice   25       New York   \n",
      "1      Bob   30  San Francisco   \n",
      "2  Charlie   35    Los Angeles   \n",
      "\n",
      "                                         Description  \n",
      "0     Ut consectetur quasi, dolore minima eius nemo.  \n",
      "1  Quam iste et eum est consequatur veniam eaque ...  \n",
      "2  Ad voluptatem dolor molestiae iure odit pariat...  \n",
      "\n",
      "DataFrame Info:\n",
      "<class 'pandas.core.frame.DataFrame'>\n",
      "RangeIndex: 3 entries, 0 to 2\n",
      "Data columns (total 4 columns):\n",
      " #   Column       Non-Null Count  Dtype \n",
      "---  ------       --------------  ----- \n",
      " 0   Name         3 non-null      object\n",
      " 1   Age          3 non-null      int64 \n",
      " 2   City         3 non-null      object\n",
      " 3   Description  3 non-null      object\n",
      "dtypes: int64(1), object(3)\n",
      "memory usage: 228.0+ bytes\n",
      "None\n",
      "\n",
      "DataFrame Shape:\n",
      "(3, 4)\n"
     ]
    }
   ],
   "source": [
    "# Display Basic Information\n",
    "print(\"DataFrame Head:\")\n",
    "print(df.head())\n",
    "\n",
    "print(\"\\nDataFrame Tail:\")\n",
    "print(df.tail())\n",
    "\n",
    "print(\"\\nDataFrame Info:\")\n",
    "print(df.info())\n",
    "\n",
    "print(\"\\nDataFrame Shape:\")\n",
    "print(df.shape)"
   ]
  },
  {
   "cell_type": "code",
   "execution_count": 3,
   "id": "eff12ede-bd90-4eb3-9507-b80d2f38af1d",
   "metadata": {},
   "outputs": [
    {
     "name": "stdout",
     "output_type": "stream",
     "text": [
      "\n",
      "Selecting a Single Column:\n",
      "0      Alice\n",
      "1        Bob\n",
      "2    Charlie\n",
      "Name: Name, dtype: object\n",
      "\n",
      "Selecting Multiple Columns:\n",
      "      Name           City\n",
      "0    Alice       New York\n",
      "1      Bob  San Francisco\n",
      "2  Charlie    Los Angeles\n"
     ]
    }
   ],
   "source": [
    "# Indexing and Selection\n",
    "print(\"\\nSelecting a Single Column:\")\n",
    "print(df['Name'])\n",
    "\n",
    "print(\"\\nSelecting Multiple Columns:\")\n",
    "print(df[['Name', 'City']])"
   ]
  },
  {
   "cell_type": "code",
   "execution_count": 4,
   "id": "381c30aa-4a27-455d-87e7-1da11ae6ffbf",
   "metadata": {},
   "outputs": [
    {
     "name": "stdout",
     "output_type": "stream",
     "text": [
      "\n",
      "Filtering Rows based on a Condition:\n",
      "      Name  Age         City  \\\n",
      "2  Charlie   35  Los Angeles   \n",
      "\n",
      "                                         Description  \n",
      "2  Ad voluptatem dolor molestiae iure odit pariat...  \n",
      "\n",
      "Sorting DataFrame by Age:\n",
      "      Name  Age           City  \\\n",
      "0    Alice   25       New York   \n",
      "1      Bob   30  San Francisco   \n",
      "2  Charlie   35    Los Angeles   \n",
      "\n",
      "                                         Description  \n",
      "0     Ut consectetur quasi, dolore minima eius nemo.  \n",
      "1  Quam iste et eum est consequatur veniam eaque ...  \n",
      "2  Ad voluptatem dolor molestiae iure odit pariat...  \n"
     ]
    }
   ],
   "source": [
    "# Filtering and Sorting\n",
    "print(\"\\nFiltering Rows based on a Condition:\")\n",
    "print(df[df['Age'] > 30])\n",
    "\n",
    "print(\"\\nSorting DataFrame by Age:\")\n",
    "print(df.sort_values(by='Age'))"
   ]
  },
  {
   "cell_type": "code",
   "execution_count": 5,
   "id": "330d4e37-a676-4684-be91-30a06a1da0b6",
   "metadata": {},
   "outputs": [
    {
     "name": "stdout",
     "output_type": "stream",
     "text": [
      "\n",
      "Checking for Missing Values:\n",
      "    Name    Age   City  Description\n",
      "0  False  False  False        False\n",
      "1  False   True  False        False\n",
      "2  False  False  False        False\n",
      "\n",
      "Dropping Missing Values:\n",
      "      Name   Age         City  \\\n",
      "0    Alice  25.0     New York   \n",
      "2  Charlie  35.0  Los Angeles   \n",
      "\n",
      "                                         Description  \n",
      "0     Ut consectetur quasi, dolore minima eius nemo.  \n",
      "2  Ad voluptatem dolor molestiae iure odit pariat...  \n"
     ]
    }
   ],
   "source": [
    "# Data Cleaning\n",
    "df.loc[1, 'Age'] = None  # Simulating a missing value\n",
    "print(\"\\nChecking for Missing Values:\")\n",
    "print(df.isnull())\n",
    "\n",
    "print(\"\\nDropping Missing Values:\")\n",
    "df_cleaned = df.dropna()\n",
    "print(df_cleaned)"
   ]
  },
  {
   "cell_type": "code",
   "execution_count": 6,
   "id": "9fe02452-d46c-49a2-8572-068bba5170e8",
   "metadata": {},
   "outputs": [
    {
     "name": "stdout",
     "output_type": "stream",
     "text": [
      "\n",
      "Grouping by City and Calculating Mean Age:\n",
      "City\n",
      "Los Angeles      35.0\n",
      "New York         25.0\n",
      "San Francisco     NaN\n",
      "Name: Age, dtype: float64\n"
     ]
    }
   ],
   "source": [
    "# Aggregation and Grouping\n",
    "print(\"\\nGrouping by City and Calculating Mean Age:\")\n",
    "print(df.groupby('City')['Age'].mean())"
   ]
  },
  {
   "cell_type": "code",
   "execution_count": 7,
   "id": "6c47c76b-813d-4a7c-a377-084c57419c66",
   "metadata": {},
   "outputs": [
    {
     "name": "stdout",
     "output_type": "stream",
     "text": [
      "\n",
      "Applying a Function to a Column:\n",
      "      Name   Age           City  \\\n",
      "0    Alice  25.0       New York   \n",
      "1      Bob   NaN  San Francisco   \n",
      "2  Charlie  35.0    Los Angeles   \n",
      "\n",
      "                                         Description  Age_Squared  \n",
      "0     Ut consectetur quasi, dolore minima eius nemo.        625.0  \n",
      "1  Quam iste et eum est consequatur veniam eaque ...          NaN  \n",
      "2  Ad voluptatem dolor molestiae iure odit pariat...       1225.0  \n"
     ]
    }
   ],
   "source": [
    "# Data Manipulation\n",
    "print(\"\\nApplying a Function to a Column:\")\n",
    "df['Age_Squared'] = df['Age'].apply(lambda x: x**2)\n",
    "print(df)"
   ]
  },
  {
   "cell_type": "code",
   "execution_count": 8,
   "id": "9989a220-5362-403a-ad81-1ee5be9c5821",
   "metadata": {},
   "outputs": [
    {
     "name": "stdout",
     "output_type": "stream",
     "text": [
      "\n",
      "Descriptive Statistics:\n",
      "             Age  Age_Squared\n",
      "count   2.000000     2.000000\n",
      "mean   30.000000   925.000000\n",
      "std     7.071068   424.264069\n",
      "min    25.000000   625.000000\n",
      "25%    27.500000   775.000000\n",
      "50%    30.000000   925.000000\n",
      "75%    32.500000  1075.000000\n",
      "max    35.000000  1225.000000\n"
     ]
    }
   ],
   "source": [
    "# Statistics\n",
    "print(\"\\nDescriptive Statistics:\")\n",
    "print(df.describe())"
   ]
  },
  {
   "cell_type": "code",
   "execution_count": 9,
   "id": "34b4d03f-5985-458f-b9cc-2990efb6f48a",
   "metadata": {},
   "outputs": [
    {
     "data": {
      "image/png": "[encoded data removed]",
      "text/plain": [
       "<Figure size 640x480 with 1 Axes>"
      ]
     },
     "metadata": {},
     "output_type": "display_data"
    }
   ],
   "source": [
    "# Visualization\n",
    "import matplotlib.pyplot as plt\n",
    "\n",
    "df.plot(kind='bar', x='Name', y='Age', title='Age Distribution')\n",
    "plt.show()"
   ]
  },
  {
   "cell_type": "code",
   "execution_count": 10,
   "id": "659bfec0-3c95-4399-b400-57fffc2df897",
   "metadata": {},
   "outputs": [],
   "source": [
    "# Exporting Data\n",
    "df.to_csv('sample_data.csv', index=False)"
   ]
  },
  {
   "cell_type": "code",
   "execution_count": 14,
   "id": "00fc801d-bc47-4d0f-b5b7-b685db9ff4c7",
   "metadata": {},
   "outputs": [
    {
     "data": {
      "text/html": [
       "<div>\n",
       "<style scoped>\n",
       "    .dataframe tbody tr th:only-of-type {\n",
       "        vertical-align: middle;\n",
       "    }\n",
       "\n",
       "    .dataframe tbody tr th {\n",
       "        vertical-align: top;\n",
       "    }\n",
       "\n",
       "    .dataframe thead th {\n",
       "        text-align: right;\n",
       "    }\n",
       "</style>\n",
       "<table border=\"1\" class=\"dataframe\">\n",
       "  <thead>\n",
       "    <tr style=\"text-align: right;\">\n",
       "      <th></th>\n",
       "      <th>Name</th>\n",
       "      <th>Age</th>\n",
       "      <th>City</th>\n",
       "      <th>Description</th>\n",
       "      <th>Cleaned_Description</th>\n",
       "    </tr>\n",
       "  </thead>\n",
       "  <tbody>\n",
       "    <tr>\n",
       "      <th>0</th>\n",
       "      <td>Alice</td>\n",
       "      <td>25</td>\n",
       "      <td>New York</td>\n",
       "      <td>Ut consectetur quasi, dolore minima eius nemo.</td>\n",
       "      <td>Ut consectetur quasi dolore minima eius nemo</td>\n",
       "    </tr>\n",
       "    <tr>\n",
       "      <th>1</th>\n",
       "      <td>Bob</td>\n",
       "      <td>30</td>\n",
       "      <td>San Francisco</td>\n",
       "      <td>Quam?</td>\n",
       "      <td>Quam</td>\n",
       "    </tr>\n",
       "    <tr>\n",
       "      <th>2</th>\n",
       "      <td>Charlie</td>\n",
       "      <td>35</td>\n",
       "      <td>Los Angeles</td>\n",
       "      <td>Ad voluptatem pariatur:) commodi et!!</td>\n",
       "      <td>Ad voluptatem pariatur commodi et</td>\n",
       "    </tr>\n",
       "  </tbody>\n",
       "</table>\n",
       "</div>"
      ],
      "text/plain": [
       "      Name  Age           City  \\\n",
       "0    Alice   25       New York   \n",
       "1      Bob   30  San Francisco   \n",
       "2  Charlie   35    Los Angeles   \n",
       "\n",
       "                                      Description  \\\n",
       "0  Ut consectetur quasi, dolore minima eius nemo.   \n",
       "1                                           Quam?   \n",
       "2           Ad voluptatem pariatur:) commodi et!!   \n",
       "\n",
       "                            Cleaned_Description  \n",
       "0  Ut consectetur quasi dolore minima eius nemo  \n",
       "1                                          Quam  \n",
       "2             Ad voluptatem pariatur commodi et  "
      ]
     },
     "execution_count": 14,
     "metadata": {},
     "output_type": "execute_result"
    }
   ],
   "source": [
    "# Function to remove punctuation using regex\n",
    "def remove_punctuation(text):\n",
    "    # Use regex to remove punctuation\n",
    "    cleaned_text = re.sub(r'[^\\w\\s]', '', text)\n",
    "    return cleaned_text\n",
    "\n",
    "# Apply the function to the 'Text' column\n",
    "df['Cleaned_Description'] = df['Description'].apply(lambda x: remove_punctuation(x))\n",
    "\n",
    "# Display the result\n",
    "df"
   ]
  },
  {
   "cell_type": "code",
   "execution_count": null,
   "id": "fbb8f6e7-9fc5-4a78-8add-ffb083a43f12",
   "metadata": {},
   "outputs": [],
   "source": []
  }
 ],
 "metadata": {
  "kernelspec": {
   "display_name": "Python 3 (ipykernel)",
   "language": "python",
   "name": "python3"
  },
  "language_info": {
   "codemirror_mode": {
    "name": "ipython",
    "version": 3
   },
   "file_extension": ".py",
   "mimetype": "text/x-python",
   "name": "python",
   "nbconvert_exporter": "python",
   "pygments_lexer": "ipython3",
   "version": "3.12.1"
  }
 },
 "nbformat": 4,
 "nbformat_minor": 5
}
