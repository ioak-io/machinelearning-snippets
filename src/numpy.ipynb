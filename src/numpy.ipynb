{
 "cells": [
  {
   "cell_type": "code",
   "execution_count": 1,
   "id": "c3c2ae87-d39e-42e0-afc8-8de3b8a05db5",
   "metadata": {},
   "outputs": [],
   "source": [
    "import numpy as np"
   ]
  },
  {
   "cell_type": "code",
   "execution_count": 2,
   "id": "ab3b45a7-e181-4336-b0b8-16995f9d5403",
   "metadata": {},
   "outputs": [],
   "source": [
    "# Create a 2D numpy array\n",
    "a = np.array([[2,4,6,8,10,12,14],[1,3,5,7,9,11,13]])"
   ]
  },
  {
   "cell_type": "code",
   "execution_count": 3,
   "id": "8d65dce7-2999-4ffc-9b9e-15bd46d5262e",
   "metadata": {},
   "outputs": [],
   "source": [
    "# Create a 1D numpy array with an explicit datatype\n",
    "b = np.array([2,4,6], dtype='int16')"
   ]
  },
  {
   "cell_type": "code",
   "execution_count": 4,
   "id": "ed498138-efd5-4173-a01e-9a272dd848e3",
   "metadata": {},
   "outputs": [
    {
     "name": "stdout",
     "output_type": "stream",
     "text": [
      "2\n",
      "1\n"
     ]
    }
   ],
   "source": [
    "# Get dimension of the array\n",
    "print(a.ndim)\n",
    "print(b.ndim)"
   ]
  },
  {
   "cell_type": "code",
   "execution_count": 5,
   "id": "ad67429f-e1b3-4a68-8d87-03550c438851",
   "metadata": {},
   "outputs": [
    {
     "name": "stdout",
     "output_type": "stream",
     "text": [
      "(2, 7)\n",
      "(3,)\n"
     ]
    }
   ],
   "source": [
    "# Shape of teh array\n",
    "print(a.shape)\n",
    "print(b.shape)"
   ]
  },
  {
   "cell_type": "code",
   "execution_count": 6,
   "id": "1b503743-eddc-4b23-b4f6-9368fce49c84",
   "metadata": {},
   "outputs": [
    {
     "name": "stdout",
     "output_type": "stream",
     "text": [
      "int32\n",
      "int16\n"
     ]
    }
   ],
   "source": [
    "# Datatype of the array\n",
    "print(a.dtype)\n",
    "print(b.dtype)"
   ]
  },
  {
   "cell_type": "code",
   "execution_count": 7,
   "id": "02df4846-6373-40f5-8e40-81d8658c3ca7",
   "metadata": {},
   "outputs": [
    {
     "name": "stdout",
     "output_type": "stream",
     "text": [
      "4\n",
      "2\n"
     ]
    }
   ],
   "source": [
    "# Byte size of an entry/item in the array\n",
    "print(a.itemsize)\n",
    "print(b.itemsize)"
   ]
  },
  {
   "cell_type": "code",
   "execution_count": 8,
   "id": "9181a70a-7f89-4def-9179-50417aca0433",
   "metadata": {},
   "outputs": [
    {
     "name": "stdout",
     "output_type": "stream",
     "text": [
      "56\n",
      "6\n"
     ]
    }
   ],
   "source": [
    "# Byte size of the complete array\n",
    "print(a.nbytes)\n",
    "print(b.nbytes)"
   ]
  },
  {
   "cell_type": "markdown",
   "id": "48e142a4-29ed-4156-b85b-71d548f914d0",
   "metadata": {},
   "source": [
    "## Accessing and changing specific elements"
   ]
  },
  {
   "cell_type": "code",
   "execution_count": 9,
   "id": "f8415ed8-ce21-4db6-a541-3efbddd74d71",
   "metadata": {},
   "outputs": [
    {
     "data": {
      "text/plain": [
       "9"
      ]
     },
     "execution_count": 9,
     "metadata": {},
     "output_type": "execute_result"
    }
   ],
   "source": [
    "# Get a specific element. Indexes start from zero\n",
    "a[1,4]"
   ]
  },
  {
   "cell_type": "code",
   "execution_count": 10,
   "id": "bfceadf2-3ed9-4716-8405-4d4c0e040ebf",
   "metadata": {},
   "outputs": [
    {
     "data": {
      "text/plain": [
       "array([ 2,  4,  6,  8, 10, 12, 14])"
      ]
     },
     "execution_count": 10,
     "metadata": {},
     "output_type": "execute_result"
    }
   ],
   "source": [
    "# Get a row\n",
    "a[0, :]"
   ]
  },
  {
   "cell_type": "code",
   "execution_count": 11,
   "id": "742ada1c-6144-45de-bb63-0a3b85161744",
   "metadata": {},
   "outputs": [
    {
     "data": {
      "text/plain": [
       "array([6, 5])"
      ]
     },
     "execution_count": 11,
     "metadata": {},
     "output_type": "execute_result"
    }
   ],
   "source": [
    "# Get a column\n",
    "a[:, 2]"
   ]
  },
  {
   "cell_type": "code",
   "execution_count": 12,
   "id": "4e24dd9a-d781-4ba9-944b-617eac02c1ad",
   "metadata": {},
   "outputs": [
    {
     "data": {
      "text/plain": [
       "array([[ 6, 10],\n",
       "       [ 5,  9]])"
      ]
     },
     "execution_count": 12,
     "metadata": {},
     "output_type": "execute_result"
    }
   ],
   "source": [
    "# Get a range of indexes. [start index : end index : step size]\n",
    "a[:, 2:6:2]"
   ]
  },
  {
   "cell_type": "code",
   "execution_count": 13,
   "id": "95be21a1-0546-4a2d-99b6-94a52cfaac5f",
   "metadata": {},
   "outputs": [
    {
     "data": {
      "text/plain": [
       "array([[  2,   4,   6,   8,  10,  12,  14],\n",
       "       [  1,   3,   5,   7, 100,  11,  13]])"
      ]
     },
     "execution_count": 13,
     "metadata": {},
     "output_type": "execute_result"
    }
   ],
   "source": [
    "# Change an element\n",
    "a[1,4] = 100\n",
    "a"
   ]
  },
  {
   "cell_type": "code",
   "execution_count": 14,
   "id": "fe8ae9ed-eede-4964-8554-f83a592bd18e",
   "metadata": {},
   "outputs": [
    {
     "data": {
      "text/plain": [
       "array([[  2,   4,  71,   8,  10,  12,  14],\n",
       "       [  1,   3,  72,   7, 100,  11,  13]])"
      ]
     },
     "execution_count": 14,
     "metadata": {},
     "output_type": "execute_result"
    }
   ],
   "source": [
    "# Change a range of selection\n",
    "a[:, 2] = [71, 72]\n",
    "a"
   ]
  },
  {
   "cell_type": "code",
   "execution_count": 15,
   "id": "94f4df87-c09f-4e08-b751-4f2db87f189d",
   "metadata": {},
   "outputs": [],
   "source": [
    "## Array initialization techniques"
   ]
  },
  {
   "cell_type": "code",
   "execution_count": 16,
   "id": "122c3427-0972-4091-b6a3-d002e2ae70ba",
   "metadata": {},
   "outputs": [
    {
     "data": {
      "text/plain": [
       "array([[[0., 0., 0., 0.],\n",
       "        [0., 0., 0., 0.],\n",
       "        [0., 0., 0., 0.],\n",
       "        [0., 0., 0., 0.],\n",
       "        [0., 0., 0., 0.],\n",
       "        [0., 0., 0., 0.]],\n",
       "\n",
       "       [[0., 0., 0., 0.],\n",
       "        [0., 0., 0., 0.],\n",
       "        [0., 0., 0., 0.],\n",
       "        [0., 0., 0., 0.],\n",
       "        [0., 0., 0., 0.],\n",
       "        [0., 0., 0., 0.]]])"
      ]
     },
     "execution_count": 16,
     "metadata": {},
     "output_type": "execute_result"
    }
   ],
   "source": [
    "# Matrix with all zeroes\n",
    "np.zeros([2,6,4])"
   ]
  },
  {
   "cell_type": "code",
   "execution_count": 17,
   "id": "c3193a19-d1ee-4fca-8cf5-0e1b978ecc3b",
   "metadata": {},
   "outputs": [
    {
     "data": {
      "text/plain": [
       "array([[1., 1., 1., 1., 1., 1.],\n",
       "       [1., 1., 1., 1., 1., 1.]])"
      ]
     },
     "execution_count": 17,
     "metadata": {},
     "output_type": "execute_result"
    }
   ],
   "source": [
    "# Matrix with all ones\n",
    "np.ones([2,6])"
   ]
  },
  {
   "cell_type": "code",
   "execution_count": 18,
   "id": "bd39c3a2-57c4-4169-a179-091d72362ffc",
   "metadata": {},
   "outputs": [
    {
     "data": {
      "text/plain": [
       "array([[72, 72, 72, 72, 72, 72],\n",
       "       [72, 72, 72, 72, 72, 72]])"
      ]
     },
     "execution_count": 18,
     "metadata": {},
     "output_type": "execute_result"
    }
   ],
   "source": [
    "# Matrix with specified value\n",
    "np.full([2,6], 72)"
   ]
  },
  {
   "cell_type": "code",
   "execution_count": 19,
   "id": "7aaf4184-0262-46b8-a01f-98da1b638fa7",
   "metadata": {},
   "outputs": [
    {
     "data": {
      "text/plain": [
       "array([[0.40810775, 0.86374981, 0.94715222, 0.07670378],\n",
       "       [0.90952063, 0.10165405, 0.38437944, 0.18258223]])"
      ]
     },
     "execution_count": 19,
     "metadata": {},
     "output_type": "execute_result"
    }
   ],
   "source": [
    "# Matrix with random numbers\n",
    "np.random.rand(2,4)"
   ]
  },
  {
   "cell_type": "code",
   "execution_count": 20,
   "id": "76c1ce9a-5773-4570-9f3c-d9a059fed021",
   "metadata": {},
   "outputs": [
    {
     "data": {
      "text/plain": [
       "array([[0.58904117, 0.3857249 , 0.36224175, 0.21710351, 0.71181402,\n",
       "        0.08978284, 0.70614526],\n",
       "       [0.1118906 , 0.91549368, 0.92565052, 0.2674102 , 0.64643549,\n",
       "        0.73749923, 0.03983826]])"
      ]
     },
     "execution_count": 20,
     "metadata": {},
     "output_type": "execute_result"
    }
   ],
   "source": [
    "# Matrix with random numbers with the shape of another array\n",
    "np.random.random_sample(a.shape)"
   ]
  },
  {
   "cell_type": "code",
   "execution_count": 21,
   "id": "75ddcc5e-12b8-4211-9796-8c320462a7dd",
   "metadata": {},
   "outputs": [
    {
     "data": {
      "text/plain": [
       "array([[11,  2, 10, 13],\n",
       "       [ 4,  5, 15,  4]])"
      ]
     },
     "execution_count": 21,
     "metadata": {},
     "output_type": "execute_result"
    }
   ],
   "source": [
    "# Matrix with random \"integer\" numbers below 20\n",
    "np.random.randint(20, size=(2,4))"
   ]
  },
  {
   "cell_type": "code",
   "execution_count": 22,
   "id": "1f04934d-a8d1-4073-b982-564d70565b92",
   "metadata": {},
   "outputs": [
    {
     "data": {
      "text/plain": [
       "array([[ 4,  7, -9, 11],\n",
       "       [ 8, 16,  4,  4]])"
      ]
     },
     "execution_count": 22,
     "metadata": {},
     "output_type": "execute_result"
    }
   ],
   "source": [
    "# Matrix with random \"integer\" numbers above -10 and below 20\n",
    "np.random.randint(-10, 20, size=(2,4))"
   ]
  },
  {
   "cell_type": "code",
   "execution_count": 23,
   "id": "69587c28-5e34-4608-afb7-f56525bd6249",
   "metadata": {},
   "outputs": [
    {
     "data": {
      "text/plain": [
       "array([[  2,   4,  71,   8,  10,  12,  14],\n",
       "       [  2,   4,  71,   8,  10,  12,  14],\n",
       "       [  2,   4,  71,   8,  10,  12,  14],\n",
       "       [  1,   3,  72,   7, 100,  11,  13],\n",
       "       [  1,   3,  72,   7, 100,  11,  13],\n",
       "       [  1,   3,  72,   7, 100,  11,  13]])"
      ]
     },
     "execution_count": 23,
     "metadata": {},
     "output_type": "execute_result"
    }
   ],
   "source": [
    "# Repeat an array on the row dimension or 1st dimension of the N dimensions of a shape array (axis = n)\n",
    "# In a 2D array axis 0 means row and 1 means column\n",
    "np.repeat(a, 3, axis=0)"
   ]
  },
  {
   "cell_type": "code",
   "execution_count": 24,
   "id": "bfe52c50-35f5-42b2-a1c4-202388398ae9",
   "metadata": {},
   "outputs": [
    {
     "name": "stdout",
     "output_type": "stream",
     "text": [
      "[[5 5 5 5 5 5]\n",
      " [5 0 0 0 0 5]\n",
      " [5 0 7 7 0 5]\n",
      " [5 0 0 0 0 5]\n",
      " [5 5 5 5 5 5]]\n"
     ]
    }
   ],
   "source": [
    "# An exercise to build a long array with bulk operation commands\n",
    "x = np.full([5,6], 5)\n",
    "x[1:4, 1:5] = np.zeros([3,4])\n",
    "x[2, 2:4] = 7\n",
    "print(x)\n",
    "del x"
   ]
  },
  {
   "cell_type": "code",
   "execution_count": 25,
   "id": "30e52e8b-3983-4b50-8ae3-f5e5e0244076",
   "metadata": {},
   "outputs": [
    {
     "name": "stdout",
     "output_type": "stream",
     "text": [
      "2\n",
      "15\n",
      "2\n"
     ]
    }
   ],
   "source": [
    "# Copying or cloning an array\n",
    "x = a.copy()\n",
    "print(a[0,0])\n",
    "x[0,0] = 15\n",
    "print(x[0,0])\n",
    "print(a[0,0])"
   ]
  },
  {
   "cell_type": "code",
   "execution_count": 26,
   "id": "fb0e81a4-6930-4cc6-a6a1-298c8b2d1de9",
   "metadata": {},
   "outputs": [],
   "source": [
    "## Statistical functions examples"
   ]
  },
  {
   "cell_type": "code",
   "execution_count": 27,
   "id": "f906973f-503c-4a53-a35b-c9b5b70cf31b",
   "metadata": {},
   "outputs": [
    {
     "name": "stdout",
     "output_type": "stream",
     "text": [
      "[[1 5 3]\n",
      " [4 2 6]]\n",
      "[1 2 3]\n",
      "6\n",
      "[5 7 9]\n",
      "[2.5 3.5 4.5]\n"
     ]
    }
   ],
   "source": [
    "x = np.array([[1,5,3],[4,2,6]])\n",
    "print(x)\n",
    "print(np.min(x, axis=0))\n",
    "print(np.max(x))\n",
    "print(np.sum(x, axis=0))\n",
    "print(np.mean(x, axis=0))\n",
    "del x"
   ]
  },
  {
   "cell_type": "code",
   "execution_count": 28,
   "id": "faceb494-6ba0-43e3-adb4-4fe7f72315e2",
   "metadata": {},
   "outputs": [],
   "source": [
    "## Array Re-organzation"
   ]
  },
  {
   "cell_type": "code",
   "execution_count": 29,
   "id": "b02018da-a8b6-4ac1-9eff-a6d66eef3d76",
   "metadata": {},
   "outputs": [
    {
     "name": "stdout",
     "output_type": "stream",
     "text": [
      "[[1 2 3 4]\n",
      " [5 6 7 8]]\n",
      "[[1 2]\n",
      " [3 4]\n",
      " [5 6]\n",
      " [7 8]]\n",
      "[[[1 2]\n",
      "  [3 4]]\n",
      "\n",
      " [[5 6]\n",
      "  [7 8]]]\n",
      "[[[1 2]]\n",
      "\n",
      " [[3 4]]\n",
      "\n",
      " [[5 6]]\n",
      "\n",
      " [[7 8]]]\n"
     ]
    }
   ],
   "source": [
    "# Reshape an array into a different shape\n",
    "x = np.array([[1,2,3,4],[5,6,7,8]])\n",
    "print(x)\n",
    "print(x.reshape(4,2))\n",
    "print(x.reshape(2,2,2))\n",
    "print(x.reshape(4,1,2))\n",
    "del x"
   ]
  },
  {
   "cell_type": "code",
   "execution_count": 30,
   "id": "f95cf4cc-8e1c-4a73-b97c-77b99d646ba0",
   "metadata": {},
   "outputs": [],
   "source": [
    "# Vertically stacking vectors\n",
    "x = np.array([1,2,3,4])\n",
    "y = np.array([5,6,7,8])\n",
    "\n",
    "np.vstack([x,y,x,y,y])\n",
    "del x\n",
    "del y"
   ]
  },
  {
   "cell_type": "code",
   "execution_count": 31,
   "id": "1c41a3bd-70bc-4ab1-b100-3ec79d5bd714",
   "metadata": {},
   "outputs": [],
   "source": [
    "# Horizontal stack\n",
    "x = np.zeros([2,4])\n",
    "y = np.ones([2,2])\n",
    "\n",
    "np.hstack([x,y])\n",
    "del x\n",
    "del y"
   ]
  },
  {
   "cell_type": "code",
   "execution_count": 32,
   "id": "b4afa2c5-b4e1-4570-9c75-f0258a8807b9",
   "metadata": {},
   "outputs": [],
   "source": [
    "## Load data from file"
   ]
  },
  {
   "cell_type": "code",
   "execution_count": 33,
   "id": "611ab431-ea75-4096-98e7-0c7508ba2a50",
   "metadata": {},
   "outputs": [
    {
     "name": "stdout",
     "output_type": "stream",
     "text": [
      "[[68 50 67 90 40 13 91 16 10 13]\n",
      " [18 95 82 94 26 22 50 63 89 96]\n",
      " [42 70 59 30 93 58 55 47 55 91]\n",
      " [17 11 46 80 82 89 90 11 82 22]]\n"
     ]
    }
   ],
   "source": [
    "x = np.genfromtxt('../dataset/simple_numbers.csv', delimiter=',')\n",
    "x = x.astype('int32')\n",
    "print(x)\n",
    "del x"
   ]
  },
  {
   "cell_type": "code",
   "execution_count": 34,
   "id": "b82c64a4-fe94-4244-9d9d-30fc20c35946",
   "metadata": {},
   "outputs": [],
   "source": [
    "## Boolean masking and advanced indexing"
   ]
  },
  {
   "cell_type": "code",
   "execution_count": 35,
   "id": "3b863a68-0812-438a-9096-e8fbd23ac4a6",
   "metadata": {},
   "outputs": [
    {
     "name": "stdout",
     "output_type": "stream",
     "text": [
      "[[15 73 89  3 20 76 64  1 27 13]\n",
      " [13 11 70 73 83 44 95 43 33 28]\n",
      " [56 83 79 88 19 83 66 99 20 13]\n",
      " [ 3  6 83 73 53  1 85  9 78  9]\n",
      " [20 37 80  6 83 42  2 78 70 55]]\n",
      "[[False  True  True False False  True  True False False False]\n",
      " [False False  True  True  True False  True False False False]\n",
      " [ True  True  True  True False  True  True  True False False]\n",
      " [False False  True  True  True False  True False  True False]\n",
      " [False False  True False  True False False  True  True  True]]\n",
      "[73 89 76 64 70 73 83 95 56 83 79 88 83 66 99 83 73 53 85 78 80 83 78 70\n",
      " 55]\n",
      "[ True  True  True  True  True  True  True  True  True  True]\n",
      "[[False False False False False False False False  True False]\n",
      " [False False False False False  True False  True  True  True]\n",
      " [False False False False False False False False False False]\n",
      " [False False False False False False False False False False]\n",
      " [False  True False False False  True False False False False]]\n",
      "[[ True  True  True  True  True  True  True  True False  True]\n",
      " [ True  True  True  True  True False  True False False False]\n",
      " [ True  True  True  True  True  True  True  True  True  True]\n",
      " [ True  True  True  True  True  True  True  True  True  True]\n",
      " [ True False  True  True  True False  True  True  True  True]]\n"
     ]
    }
   ],
   "source": [
    "x = np.random.randint(1, 100, size=(5, 10))\n",
    "print(x)\n",
    "print(x > 50)\n",
    "print(x[x > 50])\n",
    "\n",
    "# If any row or value on the 0th axis fulfills the condition\n",
    "print(np.any(x > 50, axis=0))\n",
    "print((x > 25) & (x < 50))\n",
    "print(~((x > 25) & (x < 50)))"
   ]
  },
  {
   "cell_type": "code",
   "execution_count": 36,
   "id": "b4d8ca87-fd64-4e03-8700-46b2e7cd2104",
   "metadata": {},
   "outputs": [
    {
     "name": "stdout",
     "output_type": "stream",
     "text": [
      "[2 3 9]\n"
     ]
    }
   ],
   "source": [
    "# You can index with a list\n",
    "x = np.array([1,2,3,4,5,6,7,8,9])\n",
    "print(x[[1,2,8]])\n",
    "del x"
   ]
  },
  {
   "cell_type": "code",
   "execution_count": null,
   "id": "a5af6a01-4006-4bad-87e3-2f5ee2e61b81",
   "metadata": {},
   "outputs": [],
   "source": []
  }
 ],
 "metadata": {
  "kernelspec": {
   "display_name": "Python 3 (ipykernel)",
   "language": "python",
   "name": "python3"
  },
  "language_info": {
   "codemirror_mode": {
    "name": "ipython",
    "version": 3
   },
   "file_extension": ".py",
   "mimetype": "text/x-python",
   "name": "python",
   "nbconvert_exporter": "python",
   "pygments_lexer": "ipython3",
   "version": "3.12.1"
  }
 },
 "nbformat": 4,
 "nbformat_minor": 5
}
